{
 "cells": [
  {
   "cell_type": "code",
   "execution_count": null,
   "id": "62aec834-f099-4c13-9b9f-e3ebd755d6e5",
   "metadata": {},
   "outputs": [],
   "source": [
    "#THEORITICAL"
   ]
  },
  {
   "cell_type": "code",
   "execution_count": null,
   "id": "60c41c28-734b-4d82-b765-b2e61a9cdc01",
   "metadata": {},
   "outputs": [],
   "source": [
    "\"\"\"Q1.What are data structures, and why are they important?\n",
    "   ANS.Data structures are organized ways to store, manage,\n",
    "   and retrieve data efficiently. They are essential because \n",
    "   they help optimize the performance of algorithms and enable\n",
    "   developers to handle data systematically for operations lik\n",
    "   searching, sorting, and processing.\"\"\"    "
   ]
  },
  {
   "cell_type": "code",
   "execution_count": null,
   "id": "ed996351-ffe9-4d10-ae91-7eebee3cdedf",
   "metadata": {},
   "outputs": [],
   "source": [
    "\"\"\"Q2.Explain the difference between mutable and immutable \n",
    "      data types with examples.\n",
    "   ANS.Mutable data types: These can be modified after creation.\n",
    "   Examples include lists ([1, 2, 3]) and dictionaries\n",
    "   ({'a': 1, 'b': 2}).\n",
    "   \n",
    ".Immutable data types: These cannot be changed after creation.\n",
    "Examples include tuples ((1, 2, 3)) and strings (\"Hello\").\"\"\""
   ]
  },
  {
   "cell_type": "code",
   "execution_count": null,
   "id": "b80acb6f-f927-4763-adc6-f6ac2806e2e8",
   "metadata": {},
   "outputs": [],
   "source": [
    "\"\"\"Q3.What are the main differences between lists and tuples in \n",
    "      Python?\n",
    "ANS.Lists: Mutable, can change elements. Defined using square\n",
    "    brackets ([1, 2, 3]).\n",
    "    Tuples: Immutable, cannot change elements. Defined using \n",
    "    parentheses ((1, 2, 3)).\"\"\""
   ]
  },
  {
   "cell_type": "code",
   "execution_count": null,
   "id": "3278cd31-cf0c-422c-9ded-f81b6b14321b",
   "metadata": {},
   "outputs": [],
   "source": [
    "\"\"\"Q4.Describe how dictionaries store data.\n",
    "ANS.Dictionaries store data as key-value pairs in a hash table.\n",
    "    Keys are hashed to find their location, making access and\n",
    "    retrieval efficient.\"\"\""
   ]
  },
  {
   "cell_type": "code",
   "execution_count": null,
   "id": "798be8a9-8469-4733-aaa1-cedb35dd1e9f",
   "metadata": {},
   "outputs": [],
   "source": [
    "\"\"\"Q5.Why might you use a set instead of a list in Python?\n",
    "ANS.Sets are used when unique elements are needed and duplicates\n",
    "    must be avoided. They also provide faster membership tests\n",
    "    than lists.\"\"\""
   ]
  },
  {
   "cell_type": "code",
   "execution_count": null,
   "id": "aabb26a1-4c8e-41da-8ec7-dbd07e179898",
   "metadata": {},
   "outputs": [],
   "source": [
    "\"\"\"Q6.What is a string in Python, and how is it different from\n",
    "      a list?\n",
    "ANS.A string is a sequence of characters enclosed in quotes \n",
    "   (\"Hello\"). Unlike lists, strings are immutable, meaning \n",
    "   they cannot be changed after creation.\"\"\"\n",
    "\n"
   ]
  },
  {
   "cell_type": "code",
   "execution_count": null,
   "id": "9ab5cb68-94cd-4ea5-ae1e-f6e79206c7ea",
   "metadata": {},
   "outputs": [],
   "source": [
    "\"\"\"Q7.How do tuples ensure data integrity in Python?\n",
    "ANS.Tuples are immutable, so their contents cannot be altered.\n",
    "    This ensures that data remains consistent throughout the \n",
    "    program.\"\"\""
   ]
  },
  {
   "cell_type": "code",
   "execution_count": null,
   "id": "99f18d43-6bcf-474e-b6cb-2fc64d96ea1c",
   "metadata": {},
   "outputs": [],
   "source": [
    "\"\"\"Q8.What is a hash table, and how does it relate to \n",
    "      dictionaries in Python?\n",
    "  ANS. A hash table is a data structure that maps keys to values\n",
    "   using a hash function. Dictionaries in Python are implemented\n",
    "   as hash tables, providing fast lookups.\"\"\""
   ]
  },
  {
   "cell_type": "code",
   "execution_count": null,
   "id": "1c202206-dbde-4232-ae87-4a0b23c61aee",
   "metadata": {},
   "outputs": [],
   "source": [
    "\"\"\"Q9.Can lists contain different data types in Python?\n",
    "ANS.Yes, Python lists can contain elements of different data \n",
    "    types, e.g., [1, \"Hello\", 3.14].\"\"\""
   ]
  },
  {
   "cell_type": "code",
   "execution_count": null,
   "id": "fe9cf380-22bd-44e2-837d-b2bff7ef49ab",
   "metadata": {},
   "outputs": [],
   "source": [
    "\"\"\"Q10.Explain why strings are immutable in Python.\n",
    "ANS.Strings are immutable to ensure data consistency and enable\n",
    "    safe sharing of string objects between different parts of\n",
    "    the program.\"\"\""
   ]
  },
  {
   "cell_type": "code",
   "execution_count": null,
   "id": "f70a7c13-a58c-4e32-9efd-7f5b888ee29a",
   "metadata": {},
   "outputs": [],
   "source": [
    "\"\"\"Q11.What advantages do dictionaries offer over lists for \n",
    "    certain tasks?\n",
    "ANS.Dictionaries allow for quick access using keys, making them\n",
    "more suitable than lists for tasks requiring fast lookups and \n",
    "data mapping.\"\"\""
   ]
  },
  {
   "cell_type": "code",
   "execution_count": null,
   "id": "4d78a48e-3b2a-4c1b-92b2-af34b03629d2",
   "metadata": {},
   "outputs": [],
   "source": [
    "\"\"\"Q12.Describe a scenario where using a tuple would be \n",
    "       preferable over a list.\n",
    "ANS.Tuples are ideal for fixed collections of items, such as \n",
    "    geographic coordinates ((latitude, longitude)) where \n",
    "    immutability is desired.\"\"\""
   ]
  },
  {
   "cell_type": "code",
   "execution_count": null,
   "id": "afd91df4-26ef-464a-9baf-39e3ac8560d7",
   "metadata": {},
   "outputs": [],
   "source": [
    "\"\"\"Q13. How do sets handle duplicate values in Python?\n",
    "ANS.Sets automatically discard duplicate values, ensuring all \n",
    "    elements are unique.\"\"\""
   ]
  },
  {
   "cell_type": "code",
   "execution_count": null,
   "id": "6ae930a3-035c-4b97-b9bb-c08b371dc5e6",
   "metadata": {},
   "outputs": [],
   "source": [
    "\"\"\"Q14.How does the in keyword work differently for lists and \n",
    "       dictionaries?\n",
    "ANS.Lists: Checks for the presence of a value.\n",
    "    Dictionaries: Checks for the presence of a key.\"\"\""
   ]
  },
  {
   "cell_type": "code",
   "execution_count": null,
   "id": "9a8eec62-4f5e-4131-9af7-ffbff35a65ba",
   "metadata": {},
   "outputs": [],
   "source": [
    "\"\"\"Q15.Can you modify the elements of a tuple? Explain why or \n",
    "       why not.\n",
    "ANS.No,tuples are immutable. Once created, their elements cannot\n",
    "    be changed.\"\"\""
   ]
  },
  {
   "cell_type": "code",
   "execution_count": 3,
   "id": "86fc8e54-ee34-440c-bf1a-fbd48d886528",
   "metadata": {},
   "outputs": [],
   "source": [
    "\"\"\"Q16.What is a nested dictionary, and give an example of its \n",
    "       use case.\n",
    "ANS.A nested dictionary is a dictionary within another\n",
    "    dictionary. Example:\"\"\"\n",
    "data = {'person1': {'name': 'Alice', 'age': 25},\n",
    "        'person2': {'name': 'Bob', 'age': 30}}\n"
   ]
  },
  {
   "cell_type": "code",
   "execution_count": null,
   "id": "3bcf4dd4-a422-47d4-ad9e-d0944fed0d02",
   "metadata": {},
   "outputs": [],
   "source": [
    "\"\"\"Q17.Describe the time complexity of accessing elements in a\n",
    "       dictionary.\n",
    "ANS.Accessing elements in a dictionary typically has an average\n",
    "    time complexity of O(1) due to hashing.\"\"\""
   ]
  },
  {
   "cell_type": "code",
   "execution_count": null,
   "id": "465f47f5-5068-466e-9b0b-f66081bf1355",
   "metadata": {},
   "outputs": [],
   "source": [
    "\"\"\"Q18.In what situations are lists preferred over dictionaries?\n",
    "ANS.Lists are preferred when the data does not need to be mapped\n",
    "    with keys and order or sequential access is essential.\"\"\"\n"
   ]
  },
  {
   "cell_type": "code",
   "execution_count": null,
   "id": "bd430a79-2a62-43bc-94a6-048c4bc0218c",
   "metadata": {},
   "outputs": [],
   "source": [
    "\"\"\"Q19.Why are dictionaries considered unordered, and how does\n",
    "    that affect data retrieval?\n",
    "ANS. Dictionaries were unordered in versions before Python 3.7 \n",
    " because elements were stored based on hash values. Retrieval\n",
    "doesn't depend on insertion order but is fast due to hashing.\"\"\""
   ]
  },
  {
   "cell_type": "code",
   "execution_count": null,
   "id": "17b35a9e-10fd-4b33-aa0f-91ed4b184981",
   "metadata": {},
   "outputs": [],
   "source": [
    "\"\"\"Q20.Explain the difference between a list and a dictionary \n",
    "       in terms of data retrieval.\n",
    "ANS.Lists use indices for retrieval, while dictionaries use \n",
    "    keys,allowing for more meaningful and flexible access.\"\"\" "
   ]
  },
  {
   "cell_type": "code",
   "execution_count": null,
   "id": "228bdaf4-3a35-44aa-9c6f-c71e1e7d603c",
   "metadata": {},
   "outputs": [],
   "source": [
    "#Practical Questions"
   ]
  },
  {
   "cell_type": "code",
   "execution_count": null,
   "id": "529cfc16-c17c-4e59-9aaf-3337bc1b220b",
   "metadata": {},
   "outputs": [],
   "source": [
    "\"\"\"Q1.Create a string with your name and print it.\"\"\""
   ]
  },
  {
   "cell_type": "code",
   "execution_count": 21,
   "id": "ecba55a0-5d95-41bf-9a0a-463e29260fab",
   "metadata": {},
   "outputs": [
    {
     "name": "stdout",
     "output_type": "stream",
     "text": [
      "John\n"
     ]
    }
   ],
   "source": [
    "name = \"John\"\n",
    "print(name)\n"
   ]
  },
  {
   "cell_type": "code",
   "execution_count": null,
   "id": "8bc060f5-b22b-4023-b204-2dbba712c157",
   "metadata": {},
   "outputs": [],
   "source": [
    "\"\"\"Q2.Find the length of the string \"Hello World\".\"\"\""
   ]
  },
  {
   "cell_type": "code",
   "execution_count": 23,
   "id": "4da4b059-2133-4658-9844-6a915db4ccdf",
   "metadata": {},
   "outputs": [
    {
     "name": "stdout",
     "output_type": "stream",
     "text": [
      "11\n"
     ]
    }
   ],
   "source": [
    "print(len(\"Hello World\"))"
   ]
  },
  {
   "cell_type": "code",
   "execution_count": null,
   "id": "8cba722b-8adb-40e5-93df-ac95b8af8aba",
   "metadata": {},
   "outputs": [],
   "source": [
    "\"\"\"Q3.Slice the first 3 characters from the string \n",
    "      \"Python Programming\".\"\"\""
   ]
  },
  {
   "cell_type": "code",
   "execution_count": 27,
   "id": "2fbc9778-e712-48b4-8914-01d259022c56",
   "metadata": {},
   "outputs": [
    {
     "name": "stdout",
     "output_type": "stream",
     "text": [
      "Pyt\n"
     ]
    }
   ],
   "source": [
    "print(\"Python Programming\"[:3])"
   ]
  },
  {
   "cell_type": "code",
   "execution_count": null,
   "id": "fe681807-819d-4271-85f2-1ae0e98a3a01",
   "metadata": {},
   "outputs": [],
   "source": [
    "\"\"\"Q4.Convert the string \"hello\" to uppercase.\"\"\"\""
   ]
  },
  {
   "cell_type": "code",
   "execution_count": 29,
   "id": "11e9c6ed-9b29-4135-88ec-e5d11a93453d",
   "metadata": {},
   "outputs": [
    {
     "name": "stdout",
     "output_type": "stream",
     "text": [
      "HELLO\n"
     ]
    }
   ],
   "source": [
    "print(\"hello\".upper())"
   ]
  },
  {
   "cell_type": "code",
   "execution_count": null,
   "id": "3da9276b-4dac-4d96-8d72-5f88999b1be1",
   "metadata": {},
   "outputs": [],
   "source": [
    "\"\"\"Q5.Replace \"apple\" with \"orange\" in the string\n",
    "      \"I like apple\".\"\"\""
   ]
  },
  {
   "cell_type": "code",
   "execution_count": 31,
   "id": "958bf588-db11-4f9a-8450-4b30dba0baba",
   "metadata": {},
   "outputs": [
    {
     "name": "stdout",
     "output_type": "stream",
     "text": [
      "I like orange\n"
     ]
    }
   ],
   "source": [
    "print(\"I like apple\".replace(\"apple\", \"orange\"))"
   ]
  },
  {
   "cell_type": "code",
   "execution_count": null,
   "id": "19618408-492c-4e8b-ae9a-738840e7b51a",
   "metadata": {},
   "outputs": [],
   "source": [
    "\"\"\"Q6.Create a list with numbers 1 to 5 and print it.\"\"\""
   ]
  },
  {
   "cell_type": "code",
   "execution_count": 33,
   "id": "9cdf2599-251f-4142-8992-caef3af55644",
   "metadata": {},
   "outputs": [
    {
     "name": "stdout",
     "output_type": "stream",
     "text": [
      "[1, 2, 3, 4, 5]\n"
     ]
    }
   ],
   "source": [
    "numbers = [1, 2, 3, 4, 5]\n",
    "print(numbers)"
   ]
  },
  {
   "cell_type": "code",
   "execution_count": null,
   "id": "157554ae-f5da-4a77-a11e-1041c4ee5948",
   "metadata": {},
   "outputs": [],
   "source": [
    "\"\"\"Q7.Append the number 10 to the list [1, 2, 3, 4].\"\"\""
   ]
  },
  {
   "cell_type": "code",
   "execution_count": 35,
   "id": "17129215-6d63-4d54-b6fb-ce254bef9bfd",
   "metadata": {},
   "outputs": [
    {
     "name": "stdout",
     "output_type": "stream",
     "text": [
      "[1, 2, 3, 4, 10]\n"
     ]
    }
   ],
   "source": [
    "numbers = [1, 2, 3, 4]\n",
    "numbers.append(10)\n",
    "print(numbers)"
   ]
  },
  {
   "cell_type": "code",
   "execution_count": null,
   "id": "3cbd69b9-7d9a-43ad-8c66-b025474d2981",
   "metadata": {},
   "outputs": [],
   "source": [
    "\"\"\"Q8.Remove the number 3 from the list [1, 2, 3, 4, 5].\"\"\""
   ]
  },
  {
   "cell_type": "code",
   "execution_count": 37,
   "id": "a5206f13-9630-483c-951d-d57da2833325",
   "metadata": {},
   "outputs": [
    {
     "name": "stdout",
     "output_type": "stream",
     "text": [
      "[1, 2, 4, 5]\n"
     ]
    }
   ],
   "source": [
    "numbers = [1, 2, 3, 4, 5]\n",
    "numbers.remove(3)\n",
    "print(numbers)"
   ]
  },
  {
   "cell_type": "code",
   "execution_count": null,
   "id": "8c29cd9a-1354-4e72-9a38-a39d57fd6e27",
   "metadata": {},
   "outputs": [],
   "source": [
    "\"\"\"Q9.Access the second element in the list\n",
    "      ['a', 'b', 'c', 'd'].\"\"\""
   ]
  },
  {
   "cell_type": "code",
   "execution_count": 39,
   "id": "e25c0b2b-cbbb-4e1e-b25c-e6035281b28a",
   "metadata": {},
   "outputs": [
    {
     "name": "stdout",
     "output_type": "stream",
     "text": [
      "b\n"
     ]
    }
   ],
   "source": [
    "elements = ['a', 'b', 'c', 'd']\n",
    "print(elements[1])"
   ]
  },
  {
   "cell_type": "code",
   "execution_count": null,
   "id": "625e5933-2fd9-44e8-a2e5-833799474858",
   "metadata": {},
   "outputs": [],
   "source": [
    "\"\"\"Q10.Reverse the list [10, 20, 30, 40, 50].\"\"\""
   ]
  },
  {
   "cell_type": "code",
   "execution_count": 41,
   "id": "e78fc21a-9f6c-4fca-a392-1052bf3de4f2",
   "metadata": {},
   "outputs": [
    {
     "name": "stdout",
     "output_type": "stream",
     "text": [
      "[50, 40, 30, 20, 10]\n"
     ]
    }
   ],
   "source": [
    "numbers = [10, 20, 30, 40, 50]\n",
    "numbers.reverse()\n",
    "print(numbers)"
   ]
  },
  {
   "cell_type": "code",
   "execution_count": null,
   "id": "612390bf-2abf-4e1a-ba49-89243acf989d",
   "metadata": {},
   "outputs": [],
   "source": [
    "\"\"\"Q11.Create a tuple with the elements 10,20,30 and print it.\"\"\n"
   ]
  },
  {
   "cell_type": "code",
   "execution_count": 43,
   "id": "1780b4c1-d564-4893-8215-f10d435d8142",
   "metadata": {},
   "outputs": [
    {
     "name": "stdout",
     "output_type": "stream",
     "text": [
      "(10, 20, 30)\n"
     ]
    }
   ],
   "source": [
    "tuple_example = (10, 20, 30)\n",
    "print(tuple_example)\n"
   ]
  },
  {
   "cell_type": "code",
   "execution_count": null,
   "id": "2eb11619-887d-400c-bfb6-9e45918b84e9",
   "metadata": {},
   "outputs": [],
   "source": [
    "\"\"\"Q12.Access the first element of the tuple\n",
    "       ('apple', 'banana', 'cherry').\"\"\""
   ]
  },
  {
   "cell_type": "code",
   "execution_count": 45,
   "id": "3b7c93fc-6cfa-4f2a-969d-5311af1fe2de",
   "metadata": {},
   "outputs": [
    {
     "name": "stdout",
     "output_type": "stream",
     "text": [
      "apple\n"
     ]
    }
   ],
   "source": [
    "fruits = ('apple', 'banana', 'cherry')\n",
    "print(fruits[0])\n"
   ]
  },
  {
   "cell_type": "code",
   "execution_count": null,
   "id": "7b990c40-8794-4b3b-9c92-615a3fc93e2b",
   "metadata": {},
   "outputs": [],
   "source": [
    "\"\"\"Q13.Count how many times the number 2 appears in the tuple \n",
    "       (1, 2, 3, 2, 4, 2).\"\"\""
   ]
  },
  {
   "cell_type": "code",
   "execution_count": 47,
   "id": "ffbbffd5-6c9a-43cd-a822-15b4e0cd1079",
   "metadata": {},
   "outputs": [
    {
     "name": "stdout",
     "output_type": "stream",
     "text": [
      "3\n"
     ]
    }
   ],
   "source": [
    "numbers = (1, 2, 3, 2, 4, 2)\n",
    "print(numbers.count(2))"
   ]
  },
  {
   "cell_type": "code",
   "execution_count": null,
   "id": "ddbe564e-8683-46f7-b55a-ebb6c4010a22",
   "metadata": {},
   "outputs": [],
   "source": [
    "\"\"\"Q14.Find the index of the element \"cat\" in the tuple\n",
    "    ('dog', 'cat', 'rabbit').\"\"\""
   ]
  },
  {
   "cell_type": "code",
   "execution_count": 49,
   "id": "a9f66a44-cb38-4790-80be-1385de2b1937",
   "metadata": {},
   "outputs": [
    {
     "name": "stdout",
     "output_type": "stream",
     "text": [
      "1\n"
     ]
    }
   ],
   "source": [
    "animals = ('dog', 'cat', 'rabbit')\n",
    "print(animals.index(\"cat\"))\n"
   ]
  },
  {
   "cell_type": "code",
   "execution_count": null,
   "id": "1c0cb2ae-33ea-4c60-a275-60ffad90b4de",
   "metadata": {},
   "outputs": [],
   "source": [
    "\"\"\"Q15.Check if the element \"banana\" is in the tuple\n",
    "       ('apple', 'orange', 'banana').\"\"\""
   ]
  },
  {
   "cell_type": "code",
   "execution_count": 51,
   "id": "487ba587-f8f3-496f-b28a-7e92865f9bad",
   "metadata": {},
   "outputs": [
    {
     "name": "stdout",
     "output_type": "stream",
     "text": [
      "True\n"
     ]
    }
   ],
   "source": [
    "fruits = ('apple', 'orange', 'banana')\n",
    "print(\"banana\" in fruits)"
   ]
  },
  {
   "cell_type": "code",
   "execution_count": null,
   "id": "eaf5129a-f416-4659-be39-ad9048944ba3",
   "metadata": {},
   "outputs": [],
   "source": [
    "\"\"\"Q16.Create a set with the elements 1, 2, 3, 4, 5 and \n",
    "       print it.\"\"\""
   ]
  },
  {
   "cell_type": "code",
   "execution_count": 57,
   "id": "4284b75c-9d1f-4f25-919d-49bb41845a41",
   "metadata": {},
   "outputs": [
    {
     "name": "stdout",
     "output_type": "stream",
     "text": [
      "SET: {1, 2, 3, 4, 5}\n"
     ]
    }
   ],
   "source": [
    "my_SET = {1, 2, 3, 4, 5}\n",
    "print(\"SET:\",my_SET)"
   ]
  },
  {
   "cell_type": "code",
   "execution_count": null,
   "id": "d522252a-091c-4803-b578-815ac62f71ad",
   "metadata": {},
   "outputs": [],
   "source": [
    "\"\"\"Q17.Add the element 6 to the set {1, 2, 3, 4}.\"\"\""
   ]
  },
  {
   "cell_type": "code",
   "execution_count": 59,
   "id": "67cb07a5-7393-4bf3-bb5f-dbe7dd6cd7c4",
   "metadata": {},
   "outputs": [
    {
     "name": "stdout",
     "output_type": "stream",
     "text": [
      "{1, 2, 3, 4, 6}\n"
     ]
    }
   ],
   "source": [
    "my_set = {1, 2, 3, 4}\n",
    "my_set.add(6)\n",
    "print(my_set)"
   ]
  },
  {
   "cell_type": "code",
   "execution_count": null,
   "id": "0165afbd-8493-4795-abb6-0b24af7ac4d6",
   "metadata": {},
   "outputs": [],
   "source": []
  }
 ],
 "metadata": {
  "kernelspec": {
   "display_name": "Python [conda env:base] *",
   "language": "python",
   "name": "conda-base-py"
  },
  "language_info": {
   "codemirror_mode": {
    "name": "ipython",
    "version": 3
   },
   "file_extension": ".py",
   "mimetype": "text/x-python",
   "name": "python",
   "nbconvert_exporter": "python",
   "pygments_lexer": "ipython3",
   "version": "3.12.7"
  }
 },
 "nbformat": 4,
 "nbformat_minor": 5
}
